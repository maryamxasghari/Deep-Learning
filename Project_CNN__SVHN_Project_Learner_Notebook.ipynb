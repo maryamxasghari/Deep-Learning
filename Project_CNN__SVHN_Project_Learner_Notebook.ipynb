{
  "nbformat": 4,
  "nbformat_minor": 0,
  "metadata": {
    "colab": {
      "name": "Project CNN_ SVHN Project - Learner Notebook.ipynb",
      "provenance": [],
      "collapsed_sections": [],
      "include_colab_link": true
    },
    "kernelspec": {
      "name": "python3",
      "display_name": "Python 3"
    },
    "accelerator": "GPU"
  },
  "cells": [
    {
      "cell_type": "markdown",
      "metadata": {
        "id": "view-in-github",
        "colab_type": "text"
      },
      "source": [
        "<a href=\"https://colab.research.google.com/github/maryamxasghari/Deep-Learning/blob/main/Project_CNN__SVHN_Project_Learner_Notebook.ipynb\" target=\"_parent\"><img src=\"https://colab.research.google.com/assets/colab-badge.svg\" alt=\"Open In Colab\"/></a>"
      ]
    },
    {
      "cell_type": "markdown",
      "metadata": {
        "id": "Q91KqmCRu64D"
      },
      "source": [
        "# Project - Convolutional Neural Networks: Street View Housing Number Digit Recognition\n",
        "\n",
        "**Marks: 30**\n",
        "\n",
        "Dear Learner,\n",
        "\n",
        "Welcome to project on Classification using Convolutional Neural Networks. We will work with the same dataset that we used for the Neural Network project: Street View Housing Numbers image dataset.\n",
        "\n",
        "Do read the problem statement and the guidelines around the same.\n",
        "\n",
        "----\n",
        "### Context: \n",
        "-------\n",
        "\n",
        "The ability to process visual information using machine learning algorithms can be very useful as demonstrated in various applications. The Street View House Numbers (SVHN) dataset is one of the most popular ones. It has been used in neural networks created by Google to read house numbers and match them to their geolocations. This is a great benchmark dataset to play with, learn and train models that accurately identify street numbers, and incorporate into all sorts of projects.\n",
        "\n",
        "---------\n",
        "### Objective:\n",
        "------------\n",
        "The objective of the exercise is to perform an image classification exercise on the given dataset to come up with a model that can help identify the digit images which have issues like picture brightness, blurriness. \n",
        "\n",
        "--------\n",
        "### More about the dataset\n",
        "------------\n",
        "- The dataset is provided as a .h5 file. The basic preprocessing steps have been done.\n",
        "\n",
        "---------------------------\n",
        "### Guidelines\n",
        "-----------------------------------------\n",
        "- Note that some of the questions are similar to the ones asked in the previous project. Semi filled codes are not provided in those cases.\n",
        "- You need to download the dataset from the given link and add it to your drive. Use colab for this exercise. \n",
        "- You will need to mount the drive and give proper path to read the dataset.\n",
        "- The exercise consists of semi written code blocks. You need to fill the blocks as per the instructions to achieve the required results.\n",
        "- To be able to complete the assessment in the expected time, do not change the variable names. The codes might throw errors when the names are changed. \n",
        "- The marks of each requirement is mentioned in the question.\n",
        "- You can raise your issues on the discussion forum on the Olympus.\n",
        "- Uncomment the code snippets and work on them\n",
        "--------------------------------------------\n",
        "Wishing you all the best!\n",
        "\n",
        "\n",
        "\n"
      ]
    },
    {
      "cell_type": "markdown",
      "metadata": {
        "id": "8z2Z7-OAs8QG"
      },
      "source": [
        "### Mount the drive\n",
        "Let us start by mounting the drive."
      ]
    },
    {
      "cell_type": "code",
      "metadata": {
        "id": "REFUdThmpz_d",
        "colab": {
          "base_uri": "https://localhost:8080/"
        },
        "outputId": "1580d13b-f894-408e-c8dc-e095652b0c86"
      },
      "source": [
        "from google.colab import drive\n",
        "drive.mount('/content/drive')"
      ],
      "execution_count": 2,
      "outputs": [
        {
          "output_type": "stream",
          "text": [
            "Mounted at /content/drive\n"
          ],
          "name": "stdout"
        }
      ]
    },
    {
      "cell_type": "markdown",
      "metadata": {
        "id": "ucnevGLoyKf_"
      },
      "source": [
        "Let us check for the version of installed tensorflow."
      ]
    },
    {
      "cell_type": "code",
      "metadata": {
        "id": "W5as47YxyJVk",
        "colab": {
          "base_uri": "https://localhost:8080/"
        },
        "outputId": "267b64f9-0861-4b70-b9ad-6fbe820ed541"
      },
      "source": [
        "import tensorflow as tf\n",
        "print(tf.__version__)"
      ],
      "execution_count": 3,
      "outputs": [
        {
          "output_type": "stream",
          "text": [
            "2.3.0\n"
          ],
          "name": "stdout"
        }
      ]
    },
    {
      "cell_type": "markdown",
      "metadata": {
        "id": "8lsux2ZwyTTR"
      },
      "source": [
        "### Load the dataset\n",
        "- Let us now, load the dataset that is available as a .h5 file.\n",
        "- Split the data into train and the test dataset"
      ]
    },
    {
      "cell_type": "code",
      "metadata": {
        "id": "BApX9qgNsqV0",
        "scrolled": true
      },
      "source": [
        "import h5py\n",
        "import numpy as np\n",
        "\n",
        "# Open the file as readonly\n",
        "# Make changes in path as required\n",
        "h5f = h5py.File('/content/drive/My Drive/SVHN_single_grey1.h5', 'r')\n",
        "\n",
        "# Load the training and the test set\n",
        "X_train = h5f['X_train'][:]\n",
        "y_train1 = h5f['y_train'][:]\n",
        "X_test = h5f['X_test'][:]\n",
        "y_test1 = h5f['y_test'][:]\n",
        "\n",
        "\n",
        "# Close this file\n",
        "h5f.close()"
      ],
      "execution_count": 4,
      "outputs": []
    },
    {
      "cell_type": "markdown",
      "metadata": {
        "id": "nX4VEpfIyeaW"
      },
      "source": [
        "Let us import the required libraries now."
      ]
    },
    {
      "cell_type": "code",
      "metadata": {
        "id": "aTeAO8HpsqV8"
      },
      "source": [
        "## Importing the required libraries\n",
        "import numpy as np\n",
        "from tensorflow.keras.datasets import mnist\n",
        "from tensorflow.keras.models import Sequential\n",
        "from tensorflow.keras.layers import Dense, Conv2D, MaxPool2D, BatchNormalization, Dropout, Flatten, LeakyReLU\n",
        "from tensorflow.keras.utils import to_categorical\n",
        "\n",
        "# fix random seed for reproducibility\n",
        "seed = 7\n",
        "np.random.seed(seed)"
      ],
      "execution_count": 7,
      "outputs": []
    },
    {
      "cell_type": "markdown",
      "metadata": {
        "id": "kxODV6HKykuc"
      },
      "source": [
        "### Visualising images (1.5 marks)\n",
        "- Use X_train to visualise the first 10 images. (1 marks)\n",
        "- Use Y_train to print the first 10 labels (0.5 mark)"
      ]
    },
    {
      "cell_type": "code",
      "metadata": {
        "id": "Bvsc8ytHsqWD",
        "colab": {
          "base_uri": "https://localhost:8080/",
          "height": 95
        },
        "outputId": "8952d3d8-ff94-471e-c059-b450ffcc045d"
      },
      "source": [
        "# visualizing the first 10 images in the dataset and their labels\n",
        "# Your code here\n",
        "\n",
        "%matplotlib inline\n",
        "import matplotlib.pyplot as plt\n",
        "plt.figure(figsize=(10, 8))\n",
        "for i in range(10):\n",
        "     plt.subplot(1, 10, i+1)\n",
        "     plt.imshow(X_train[i], cmap=\"gray\")\n",
        "     plt.axis('off')\n",
        "plt.show()\n",
        "print('label for each of the above image: %s' % (y_train1[0:10]))"
      ],
      "execution_count": 8,
      "outputs": [
        {
          "output_type": "display_data",
          "data": {
            "image/png": "[encoded data removed]",
            "text/plain": [
              "<Figure size 720x576 with 10 Axes>"
            ]
          },
          "metadata": {
            "tags": [],
            "needs_background": "light"
          }
        },
        {
          "output_type": "stream",
          "text": [
            "label for each of the above image: [2 6 7 4 4 0 3 0 7 3]\n"
          ],
          "name": "stdout"
        }
      ]
    },
    {
      "cell_type": "markdown",
      "metadata": {
        "id": "kzoyeXHOy80N"
      },
      "source": [
        "### Data preparation (6 marks)\n",
        "\n",
        "- Print the first image in the train image and figure out the shape of the images (0.5 mark)\n",
        "- Reshape the train and the test dataset to make them fit the first convolutional operation that we will create later. Figure out the required shape (3 marks)\n",
        "- Normalise the train and the test dataset by dividing by 255. (1 mark)\n",
        "- Print the new shapes of the train and the test set. (0.5 mark)\n",
        "- One hot encode the target variables (1 marks)"
      ]
    },
    {
      "cell_type": "code",
      "metadata": {
        "id": "NqndzQXng9rL",
        "colab": {
          "base_uri": "https://localhost:8080/",
          "height": 334
        },
        "outputId": "be967d8d-ad03-461c-85b0-12f1a94f8ba8"
      },
      "source": [
        "# Shape of the images and the first image\n",
        "# Your code here\n",
        "\n",
        "print(\"Shape:\", X_train[0].shape)\n",
        "print()\n",
        "print(\"First image:\\n\", plt.imshow(X_train[0]))"
      ],
      "execution_count": 9,
      "outputs": [
        {
          "output_type": "stream",
          "text": [
            "Shape: (32, 32)\n",
            "\n",
            "First image:\n",
            " AxesImage(54,36;334.8x217.44)\n"
          ],
          "name": "stdout"
        },
        {
          "output_type": "display_data",
          "data": {
            "image/png": "[encoded data removed]",
            "text/plain": [
              "<Figure size 432x288 with 1 Axes>"
            ]
          },
          "metadata": {
            "tags": [],
            "needs_background": "light"
          }
        }
      ]
    },
    {
      "cell_type": "code",
      "metadata": {
        "id": "D9YPwf9ysqWU"
      },
      "source": [
        "# Reshaping the dataset to flatten them. Remember that we are trying to reshape the 2D image data into a 3D data where there is just one channel\n",
        "\n",
        "X_train = X_train.reshape(X_train.shape[0], 32,32,1)\n",
        "X_test = X_test.reshape(X_test.shape[0], 32,32,1)"
      ],
      "execution_count": 10,
      "outputs": []
    },
    {
      "cell_type": "code",
      "metadata": {
        "id": "q_yUUTp_mUzB"
      },
      "source": [
        "# Normalize inputs from 0-255 to 0-1\n",
        "\n",
        "# Your code here\n",
        "\n",
        "X_train = X_train/255\n",
        "X_test =  X_test/255"
      ],
      "execution_count": 11,
      "outputs": []
    },
    {
      "cell_type": "code",
      "metadata": {
        "id": "t7FSqOpamWkH",
        "colab": {
          "base_uri": "https://localhost:8080/"
        },
        "outputId": "920c901b-1850-4031-b8bc-cfe7427adc8e"
      },
      "source": [
        "# New shape \n",
        "\n",
        "#Your code here\n",
        "print('Training set:', X_train.shape, y_train1.shape )\n",
        "print('Test set:', X_test.shape, y_train1.shape )"
      ],
      "execution_count": 12,
      "outputs": [
        {
          "output_type": "stream",
          "text": [
            "Training set: (42000, 32, 32, 1) (42000,)\n",
            "Test set: (18000, 32, 32, 1) (42000,)\n"
          ],
          "name": "stdout"
        }
      ]
    },
    {
      "cell_type": "code",
      "metadata": {
        "id": "zL0lYER4sqWw"
      },
      "source": [
        "# one hot encode output\n",
        "# Your code here\n",
        "import keras\n",
        "y_train = keras.utils.to_categorical(y_train1)\n",
        "y_test = keras.utils.to_categorical(y_test1)"
      ],
      "execution_count": 13,
      "outputs": []
    },
    {
      "cell_type": "markdown",
      "metadata": {
        "id": "UJDUoaEj1d6e"
      },
      "source": [
        "### Model Building (7 marks)\n",
        "- Write a function that returns a sequential model with the following architecture\n",
        " - First Convolutional layer with 16 filters and kernel size =3. Use the 'same' padding and provide apt input shape.\n",
        " - Add a leaky relu layer next with the value 0.1\n",
        " - First Convolutional layer with 32 filters and kernel size =3. Use the 'same' padding.\n",
        " - Another leakyRelu same as above.\n",
        " - A maxpooling layer with pool size of 2\n",
        " - Flatten the output from the previous layer\n",
        " - Add a dense layer with 32 nodes\n",
        " - Add a leakyRelu layer with slope(0.1)\n",
        " - Add the final output layer with nodes equal to the number of classes and softmax activation.\n",
        " - Compile the model with the categorical_crossentropy loss, adam optmizers (lr = 0.001) and accuracy metric.\n",
        "- Do not fit the model here, just return the compiled model\n",
        "- Call the model and print the model summary\n",
        "- Fit the model on the train data with a validation split of 0.2, batch size = 32, verbose = 1 and 20 epochs. Store the model building history to use it later for visualisation.\n"
      ]
    },
    {
      "cell_type": "code",
      "metadata": {
        "id": "kDTMzQE99X7W"
      },
      "source": [
        "from keras.models import Sequential\n",
        "from keras.layers import Conv2D, MaxPooling2D, Flatten, Dense, Activation, Dropout\n",
        "from keras.layers.advanced_activations import LeakyReLU"
      ],
      "execution_count": 14,
      "outputs": []
    },
    {
      "cell_type": "code",
      "metadata": {
        "id": "Cmi81Gr5sqW-"
      },
      "source": [
        "# define model\n",
        "\n",
        "from tensorflow.keras import losses\n",
        "from tensorflow.keras import optimizers\n",
        "\n",
        "# Uncomment below to answer\n",
        "\n",
        "def cnn_model_1():\n",
        "     #Your code here\n",
        "     model_1 = Sequential()\n",
        "     model_1.add(Conv2D(filters=16, kernel_size=3, padding=\"same\", input_shape=(32, 32, 1)))\n",
        "     model_1.add(LeakyReLU(0.1))\n",
        "     model_1.add(Conv2D(filters=32, kernel_size=3, padding='same'))\n",
        "     model_1.add(LeakyReLU(0.1))\n",
        "     model_1.add(MaxPooling2D(pool_size=2))\n",
        "     model_1.add(Flatten())\n",
        "     model_1.add(Dense(32))\n",
        "     model_1.add(LeakyReLU(0.1))\n",
        "     model_1.add(Dense(10, activation='softmax'))\n",
        "     # Compile model\n",
        "     adam = keras.optimizers.Adam(lr=1e-3)\n",
        "     model_1.compile(loss=\"categorical_crossentropy\", optimizer=\"adam\", metrics=['accuracy'])\n",
        "     return model_1"
      ],
      "execution_count": 15,
      "outputs": []
    },
    {
      "cell_type": "code",
      "metadata": {
        "id": "tiOOOyHkhQH_",
        "colab": {
          "base_uri": "https://localhost:8080/"
        },
        "outputId": "054e2cb8-6376-4564-96d6-824c8b3da379"
      },
      "source": [
        "# Call the function and print the model summary\n",
        "model_1 = cnn_model_1()\n",
        "model_1.summary()"
      ],
      "execution_count": 16,
      "outputs": [
        {
          "output_type": "stream",
          "text": [
            "Model: \"sequential\"\n",
            "_________________________________________________________________\n",
            "Layer (type)                 Output Shape              Param #   \n",
            "=================================================================\n",
            "conv2d (Conv2D)              (None, 32, 32, 16)        160       \n",
            "_________________________________________________________________\n",
            "leaky_re_lu (LeakyReLU)      (None, 32, 32, 16)        0         \n",
            "_________________________________________________________________\n",
            "conv2d_1 (Conv2D)            (None, 32, 32, 32)        4640      \n",
            "_________________________________________________________________\n",
            "leaky_re_lu_1 (LeakyReLU)    (None, 32, 32, 32)        0         \n",
            "_________________________________________________________________\n",
            "max_pooling2d (MaxPooling2D) (None, 16, 16, 32)        0         \n",
            "_________________________________________________________________\n",
            "flatten (Flatten)            (None, 8192)              0         \n",
            "_________________________________________________________________\n",
            "dense (Dense)                (None, 32)                262176    \n",
            "_________________________________________________________________\n",
            "leaky_re_lu_2 (LeakyReLU)    (None, 32)                0         \n",
            "_________________________________________________________________\n",
            "dense_1 (Dense)              (None, 10)                330       \n",
            "=================================================================\n",
            "Total params: 267,306\n",
            "Trainable params: 267,306\n",
            "Non-trainable params: 0\n",
            "_________________________________________________________________\n"
          ],
          "name": "stdout"
        }
      ]
    },
    {
      "cell_type": "code",
      "metadata": {
        "id": "bGCUI_xsImnH",
        "colab": {
          "base_uri": "https://localhost:8080/"
        },
        "outputId": "e85d7852-4aec-41c9-f97a-8b5d6f41f972"
      },
      "source": [
        "# Fit the model and save the history\n",
        "\n",
        "history_model_1 = model_1.fit(X_train, y_train,\n",
        "            epochs=20,validation_split=0.2,batch_size = 32,\n",
        "            validation_data=(X_test, y_test),\n",
        "            shuffle=True,\n",
        "            verbose=1)"
      ],
      "execution_count": 17,
      "outputs": [
        {
          "output_type": "stream",
          "text": [
            "Epoch 1/20\n",
            "1050/1050 [==============================] - 4s 4ms/step - loss: 1.1162 - accuracy: 0.6382 - val_loss: 0.6294 - val_accuracy: 0.8168\n",
            "Epoch 2/20\n",
            "1050/1050 [==============================] - 3s 3ms/step - loss: 0.5414 - accuracy: 0.8426 - val_loss: 0.5356 - val_accuracy: 0.8456\n",
            "Epoch 3/20\n",
            "1050/1050 [==============================] - 4s 3ms/step - loss: 0.4441 - accuracy: 0.8682 - val_loss: 0.4637 - val_accuracy: 0.8690\n",
            "Epoch 4/20\n",
            "1050/1050 [==============================] - 3s 3ms/step - loss: 0.3864 - accuracy: 0.8861 - val_loss: 0.4465 - val_accuracy: 0.8737\n",
            "Epoch 5/20\n",
            "1050/1050 [==============================] - 3s 3ms/step - loss: 0.3367 - accuracy: 0.9007 - val_loss: 0.4576 - val_accuracy: 0.8704\n",
            "Epoch 6/20\n",
            "1050/1050 [==============================] - 3s 3ms/step - loss: 0.2981 - accuracy: 0.9110 - val_loss: 0.4526 - val_accuracy: 0.8743\n",
            "Epoch 7/20\n",
            "1050/1050 [==============================] - 3s 3ms/step - loss: 0.2673 - accuracy: 0.9198 - val_loss: 0.4515 - val_accuracy: 0.8762\n",
            "Epoch 8/20\n",
            "1050/1050 [==============================] - 3s 3ms/step - loss: 0.2301 - accuracy: 0.9300 - val_loss: 0.4563 - val_accuracy: 0.8799\n",
            "Epoch 9/20\n",
            "1050/1050 [==============================] - 3s 3ms/step - loss: 0.2061 - accuracy: 0.9374 - val_loss: 0.4811 - val_accuracy: 0.8800\n",
            "Epoch 10/20\n",
            "1050/1050 [==============================] - 3s 3ms/step - loss: 0.1831 - accuracy: 0.9446 - val_loss: 0.5017 - val_accuracy: 0.8762\n",
            "Epoch 11/20\n",
            "1050/1050 [==============================] - 3s 3ms/step - loss: 0.1666 - accuracy: 0.9471 - val_loss: 0.5138 - val_accuracy: 0.8798\n",
            "Epoch 12/20\n",
            "1050/1050 [==============================] - 3s 3ms/step - loss: 0.1429 - accuracy: 0.9556 - val_loss: 0.5612 - val_accuracy: 0.8726\n",
            "Epoch 13/20\n",
            "1050/1050 [==============================] - 4s 3ms/step - loss: 0.1288 - accuracy: 0.9599 - val_loss: 0.5882 - val_accuracy: 0.8705\n",
            "Epoch 14/20\n",
            "1050/1050 [==============================] - 3s 3ms/step - loss: 0.1173 - accuracy: 0.9623 - val_loss: 0.6598 - val_accuracy: 0.8605\n",
            "Epoch 15/20\n",
            "1050/1050 [==============================] - 4s 3ms/step - loss: 0.1028 - accuracy: 0.9670 - val_loss: 0.6316 - val_accuracy: 0.8740\n",
            "Epoch 16/20\n",
            "1050/1050 [==============================] - 3s 3ms/step - loss: 0.0966 - accuracy: 0.9689 - val_loss: 0.6444 - val_accuracy: 0.8736\n",
            "Epoch 17/20\n",
            "1050/1050 [==============================] - 3s 3ms/step - loss: 0.0855 - accuracy: 0.9713 - val_loss: 0.7278 - val_accuracy: 0.8730\n",
            "Epoch 18/20\n",
            "1050/1050 [==============================] - 4s 3ms/step - loss: 0.0728 - accuracy: 0.9766 - val_loss: 0.7390 - val_accuracy: 0.8708\n",
            "Epoch 19/20\n",
            "1050/1050 [==============================] - 3s 3ms/step - loss: 0.0798 - accuracy: 0.9729 - val_loss: 0.7555 - val_accuracy: 0.8731\n",
            "Epoch 20/20\n",
            "1050/1050 [==============================] - 3s 3ms/step - loss: 0.0629 - accuracy: 0.9795 - val_loss: 0.7832 - val_accuracy: 0.8746\n"
          ],
          "name": "stdout"
        }
      ]
    },
    {
      "cell_type": "markdown",
      "metadata": {
        "id": "tKOckG-KPyLg"
      },
      "source": [
        "### Plotting the validation and training accuracies (1.5 marks)"
      ]
    },
    {
      "cell_type": "code",
      "metadata": {
        "id": "lt77zgGMP4yw",
        "colab": {
          "base_uri": "https://localhost:8080/",
          "height": 497
        },
        "outputId": "8e0b3291-ea67-4398-a8d8-b9dec01eabea"
      },
      "source": [
        "# plotting the accuracies\n",
        "# Your code here\n",
        "\n",
        "dict_hist = history_model_1.history\n",
        "#list_ep = [i for i in range(1,31)]\n",
        "\n",
        "plt.figure(figsize = (8,8))\n",
        "plt.plot(dict_hist['accuracy'])\n",
        "plt.plot(dict_hist['val_accuracy'])\n",
        "plt.ylabel('Accuracy')\n",
        "plt.xlabel('Epochs')\n",
        "plt.legend(['train', 'test'], loc='upper left')\n",
        "plt.show()"
      ],
      "execution_count": 27,
      "outputs": [
        {
          "output_type": "display_data",
          "data": {
            "image/png": "[encoded data removed]",
            "text/plain": [
              "<Figure size 576x576 with 1 Axes>"
            ]
          },
          "metadata": {
            "tags": [],
            "needs_background": "light"
          }
        }
      ]
    },
    {
      "cell_type": "markdown",
      "metadata": {
        "id": "pGBbQpLONX7k"
      },
      "source": [
        "** bold textComments**\n"
      ]
    },
    {
      "cell_type": "markdown",
      "metadata": {
        "id": "jW-NhoXXm2b9"
      },
      "source": [
        "### Iteration 2 (12 marks)\n",
        "- Experiment with adding dropout layers to make the model generalise better and report the results.\n",
        "- Feel free to explore various architectures that can help you generalise better.\n",
        "- Repeat all the steps done above and plot the results"
      ]
    },
    {
      "cell_type": "code",
      "metadata": {
        "id": "wQtMWG4znKS0"
      },
      "source": [
        "# Uncomment below and complete\n",
        "\n",
        "def cnn_model_2():\n",
        "     # initialized a sequential model\n",
        "      model_2 = Sequential()\n",
        "     # Your code here\n",
        "      model_2.add(Conv2D(filters=16, kernel_size=3, padding=\"same\", input_shape=(32, 32, 1)))\n",
        "      model_2.add(LeakyReLU(0.1))\n",
        "      model_2.add(Conv2D(filters=32, kernel_size=3, padding='same'))\n",
        "      model_2.add(LeakyReLU(0.1))\n",
        "      model_2.add(MaxPooling2D(pool_size=2))\n",
        "      model_2.add(Dropout(0.25))\n",
        "      model_2.add(Conv2D(filters=32, kernel_size=3, padding='same'))\n",
        "      model_2.add(LeakyReLU(0.1))\n",
        "      model_2.add(Conv2D(filters=64, kernel_size=3, padding='same'))\n",
        "      model_2.add(LeakyReLU(0.1))\n",
        "      model_2.add(MaxPooling2D(pool_size=2))\n",
        "      model_2.add(Dropout(0.25))\n",
        "      model_2.add(Flatten())\n",
        "      model_2.add(Dense(256))\n",
        "      model_2.add(LeakyReLU(0.1))\n",
        "      model_2.add(Dropout(0.5))\n",
        "      model_2.add(Dense(10, activation='softmax'))\n",
        "      # Compile model\n",
        "      adam = keras.optimizers.Adam(lr=1e-3)\n",
        "      model_2.compile(loss=\"categorical_crossentropy\", optimizer=\"adam\", metrics=['accuracy'])\n",
        "     \n",
        "      return model_2"
      ],
      "execution_count": 39,
      "outputs": []
    },
    {
      "cell_type": "code",
      "metadata": {
        "id": "cu2ydBfHnlx1",
        "colab": {
          "base_uri": "https://localhost:8080/"
        },
        "outputId": "ec6779e8-efde-4197-cb33-70dd2339bd32"
      },
      "source": [
        "#Call the function and print model summary\n",
        "\n",
        "#Your code here\n",
        "model_2 = cnn_model_2()\n",
        "model_2.summary()"
      ],
      "execution_count": 40,
      "outputs": [
        {
          "output_type": "stream",
          "text": [
            "Model: \"sequential_2\"\n",
            "_________________________________________________________________\n",
            "Layer (type)                 Output Shape              Param #   \n",
            "=================================================================\n",
            "conv2d_4 (Conv2D)            (None, 32, 32, 16)        160       \n",
            "_________________________________________________________________\n",
            "leaky_re_lu_6 (LeakyReLU)    (None, 32, 32, 16)        0         \n",
            "_________________________________________________________________\n",
            "conv2d_5 (Conv2D)            (None, 32, 32, 32)        4640      \n",
            "_________________________________________________________________\n",
            "leaky_re_lu_7 (LeakyReLU)    (None, 32, 32, 32)        0         \n",
            "_________________________________________________________________\n",
            "max_pooling2d_2 (MaxPooling2 (None, 16, 16, 32)        0         \n",
            "_________________________________________________________________\n",
            "dropout_3 (Dropout)          (None, 16, 16, 32)        0         \n",
            "_________________________________________________________________\n",
            "conv2d_6 (Conv2D)            (None, 16, 16, 32)        9248      \n",
            "_________________________________________________________________\n",
            "leaky_re_lu_8 (LeakyReLU)    (None, 16, 16, 32)        0         \n",
            "_________________________________________________________________\n",
            "conv2d_7 (Conv2D)            (None, 16, 16, 64)        18496     \n",
            "_________________________________________________________________\n",
            "leaky_re_lu_9 (LeakyReLU)    (None, 16, 16, 64)        0         \n",
            "_________________________________________________________________\n",
            "max_pooling2d_3 (MaxPooling2 (None, 8, 8, 64)          0         \n",
            "_________________________________________________________________\n",
            "dropout_4 (Dropout)          (None, 8, 8, 64)          0         \n",
            "_________________________________________________________________\n",
            "flatten_2 (Flatten)          (None, 4096)              0         \n",
            "_________________________________________________________________\n",
            "dense_4 (Dense)              (None, 256)               1048832   \n",
            "_________________________________________________________________\n",
            "leaky_re_lu_10 (LeakyReLU)   (None, 256)               0         \n",
            "_________________________________________________________________\n",
            "dropout_5 (Dropout)          (None, 256)               0         \n",
            "_________________________________________________________________\n",
            "dense_5 (Dense)              (None, 10)                2570      \n",
            "=================================================================\n",
            "Total params: 1,083,946\n",
            "Trainable params: 1,083,946\n",
            "Non-trainable params: 0\n",
            "_________________________________________________________________\n"
          ],
          "name": "stdout"
        }
      ]
    },
    {
      "cell_type": "code",
      "metadata": {
        "id": "3x_GZq2-n-QO",
        "colab": {
          "base_uri": "https://localhost:8080/"
        },
        "outputId": "f832fd85-893a-4d22-d0dc-294c361b28fb"
      },
      "source": [
        "# Fit the model\n",
        "# Uncomment below and complete\n",
        "# history_model_2 = model_2.fit()\n",
        "\n",
        "history_model_2 = model_2.fit(X_train, y_train,\n",
        "            epochs=20,validation_split=0.2,batch_size = 32,\n",
        "            validation_data=(X_test, y_test),\n",
        "            shuffle=True,\n",
        "            verbose=1)"
      ],
      "execution_count": 41,
      "outputs": [
        {
          "output_type": "stream",
          "text": [
            "Epoch 1/20\n",
            "1050/1050 [==============================] - 5s 5ms/step - loss: 1.1754 - accuracy: 0.5891 - val_loss: 0.4640 - val_accuracy: 0.8639\n",
            "Epoch 2/20\n",
            "1050/1050 [==============================] - 5s 4ms/step - loss: 0.4826 - accuracy: 0.8503 - val_loss: 0.3685 - val_accuracy: 0.8926\n",
            "Epoch 3/20\n",
            "1050/1050 [==============================] - 5s 4ms/step - loss: 0.3952 - accuracy: 0.8793 - val_loss: 0.3455 - val_accuracy: 0.9012\n",
            "Epoch 4/20\n",
            "1050/1050 [==============================] - 5s 4ms/step - loss: 0.3419 - accuracy: 0.8940 - val_loss: 0.3127 - val_accuracy: 0.9100\n",
            "Epoch 5/20\n",
            "1050/1050 [==============================] - 5s 4ms/step - loss: 0.3111 - accuracy: 0.9030 - val_loss: 0.3185 - val_accuracy: 0.9088\n",
            "Epoch 6/20\n",
            "1050/1050 [==============================] - 5s 4ms/step - loss: 0.2811 - accuracy: 0.9116 - val_loss: 0.3060 - val_accuracy: 0.9140\n",
            "Epoch 7/20\n",
            "1050/1050 [==============================] - 5s 4ms/step - loss: 0.2592 - accuracy: 0.9191 - val_loss: 0.2933 - val_accuracy: 0.9192\n",
            "Epoch 8/20\n",
            "1050/1050 [==============================] - 5s 4ms/step - loss: 0.2445 - accuracy: 0.9248 - val_loss: 0.2842 - val_accuracy: 0.9196\n",
            "Epoch 9/20\n",
            "1050/1050 [==============================] - 5s 4ms/step - loss: 0.2279 - accuracy: 0.9285 - val_loss: 0.2821 - val_accuracy: 0.9260\n",
            "Epoch 10/20\n",
            "1050/1050 [==============================] - 5s 4ms/step - loss: 0.2156 - accuracy: 0.9315 - val_loss: 0.2649 - val_accuracy: 0.9261\n",
            "Epoch 11/20\n",
            "1050/1050 [==============================] - 5s 4ms/step - loss: 0.2053 - accuracy: 0.9352 - val_loss: 0.2779 - val_accuracy: 0.9262\n",
            "Epoch 12/20\n",
            "1050/1050 [==============================] - 5s 4ms/step - loss: 0.1926 - accuracy: 0.9379 - val_loss: 0.2987 - val_accuracy: 0.9262\n",
            "Epoch 13/20\n",
            "1050/1050 [==============================] - 5s 4ms/step - loss: 0.1857 - accuracy: 0.9408 - val_loss: 0.2969 - val_accuracy: 0.9227\n",
            "Epoch 14/20\n",
            "1050/1050 [==============================] - 5s 4ms/step - loss: 0.1760 - accuracy: 0.9425 - val_loss: 0.2986 - val_accuracy: 0.9268\n",
            "Epoch 15/20\n",
            "1050/1050 [==============================] - 5s 4ms/step - loss: 0.1718 - accuracy: 0.9455 - val_loss: 0.3242 - val_accuracy: 0.9164\n",
            "Epoch 16/20\n",
            "1050/1050 [==============================] - 5s 4ms/step - loss: 0.1637 - accuracy: 0.9463 - val_loss: 0.3276 - val_accuracy: 0.9269\n",
            "Epoch 17/20\n",
            "1050/1050 [==============================] - 5s 4ms/step - loss: 0.1572 - accuracy: 0.9482 - val_loss: 0.3086 - val_accuracy: 0.9308\n",
            "Epoch 18/20\n",
            "1050/1050 [==============================] - 5s 4ms/step - loss: 0.1573 - accuracy: 0.9490 - val_loss: 0.3102 - val_accuracy: 0.9271\n",
            "Epoch 19/20\n",
            "1050/1050 [==============================] - 5s 4ms/step - loss: 0.1546 - accuracy: 0.9498 - val_loss: 0.3121 - val_accuracy: 0.9257\n",
            "Epoch 20/20\n",
            "1050/1050 [==============================] - 5s 4ms/step - loss: 0.1488 - accuracy: 0.9521 - val_loss: 0.3131 - val_accuracy: 0.9269\n"
          ],
          "name": "stdout"
        }
      ]
    },
    {
      "cell_type": "code",
      "metadata": {
        "id": "RjYchTv2pnsW",
        "colab": {
          "base_uri": "https://localhost:8080/",
          "height": 497
        },
        "outputId": "1483cff5-82c9-4df6-928f-cc0a0bc6af1b"
      },
      "source": [
        "# plotting the accuracies\n",
        "dict_hist2 = history_model_2.history\n",
        "#list_ep = [i for i in range(1,31)]\n",
        "\n",
        "plt.figure(figsize = (8,8))\n",
        "plt.plot(dict_hist['accuracy'])\n",
        "plt.plot(dict_hist['val_accuracy'])\n",
        "plt.ylabel('Accuracy')\n",
        "plt.xlabel('Epochs')\n",
        "plt.legend(['train', 'test'], loc='upper left')\n",
        "plt.show()\n"
      ],
      "execution_count": 42,
      "outputs": [
        {
          "output_type": "display_data",
          "data": {
            "image/png": "[encoded data removed]",
            "text/plain": [
              "<Figure size 576x576 with 1 Axes>"
            ]
          },
          "metadata": {
            "tags": [],
            "needs_background": "light"
          }
        }
      ]
    },
    {
      "cell_type": "markdown",
      "metadata": {
        "id": "HWr-tucap_TE"
      },
      "source": [
        "#### Comments:\n",
        "For the 2nd model I increased number of layers, and number of trainable parameters increased significantly. The test shows higher accuracy.\n",
        "\n"
      ]
    },
    {
      "cell_type": "markdown",
      "metadata": {
        "id": "8kuXx9Bvu00f"
      },
      "source": [
        "### Test set prediction and final comments (Using the better model of the two iterations) (2 marks)\n",
        "- predict on the test set and comment on the resultls obtained. (2 marks)\n"
      ]
    },
    {
      "cell_type": "code",
      "metadata": {
        "id": "xRddeJ-3EHT1",
        "colab": {
          "base_uri": "https://localhost:8080/"
        },
        "outputId": "586de20f-04bb-431f-b3cd-047fe1c8bdcf"
      },
      "source": [
        "# predict on the test dataset\n",
        "# Your code here\n",
        "\n",
        "test_pred1 = np.argmax(model_1.predict(X_test), axis  = 1)\n",
        "\n",
        "#Print the classificatio report\n",
        "from sklearn.metrics import classification_report\n",
        "print(classification_report(y_test1, test_pred1))"
      ],
      "execution_count": 31,
      "outputs": [
        {
          "output_type": "stream",
          "text": [
            "              precision    recall  f1-score   support\n",
            "\n",
            "           0       0.90      0.90      0.90      1814\n",
            "           1       0.86      0.87      0.87      1828\n",
            "           2       0.92      0.88      0.90      1803\n",
            "           3       0.84      0.84      0.84      1719\n",
            "           4       0.89      0.88      0.89      1812\n",
            "           5       0.86      0.88      0.87      1768\n",
            "           6       0.84      0.86      0.85      1832\n",
            "           7       0.91      0.90      0.90      1808\n",
            "           8       0.83      0.85      0.84      1812\n",
            "           9       0.87      0.86      0.87      1804\n",
            "\n",
            "    accuracy                           0.87     18000\n",
            "   macro avg       0.87      0.87      0.87     18000\n",
            "weighted avg       0.87      0.87      0.87     18000\n",
            "\n"
          ],
          "name": "stdout"
        }
      ]
    },
    {
      "cell_type": "code",
      "metadata": {
        "colab": {
          "base_uri": "https://localhost:8080/"
        },
        "id": "fRhuPWD3aGku",
        "outputId": "d1f58997-c820-4caa-d8ec-564be7a2347d"
      },
      "source": [
        "from sklearn.metrics import accuracy_score\n",
        "\n",
        "accuracy_score(y_test1, test_pred1)"
      ],
      "execution_count": 32,
      "outputs": [
        {
          "output_type": "execute_result",
          "data": {
            "text/plain": [
              "0.8726111111111111"
            ]
          },
          "metadata": {
            "tags": []
          },
          "execution_count": 32
        }
      ]
    },
    {
      "cell_type": "code",
      "metadata": {
        "colab": {
          "base_uri": "https://localhost:8080/"
        },
        "id": "OKSrmFJIgAWS",
        "outputId": "bd1d381d-680c-438c-bd55-1ff85a0b9470"
      },
      "source": [
        "test_pred2 = np.argmax(model_2.predict(X_test), axis  = 1)\n",
        "print(classification_report(y_test1, test_pred2))"
      ],
      "execution_count": 43,
      "outputs": [
        {
          "output_type": "stream",
          "text": [
            "              precision    recall  f1-score   support\n",
            "\n",
            "           0       0.93      0.96      0.94      1814\n",
            "           1       0.91      0.93      0.92      1828\n",
            "           2       0.94      0.95      0.94      1803\n",
            "           3       0.90      0.91      0.91      1719\n",
            "           4       0.93      0.95      0.94      1812\n",
            "           5       0.94      0.93      0.93      1768\n",
            "           6       0.94      0.91      0.93      1832\n",
            "           7       0.95      0.93      0.94      1808\n",
            "           8       0.92      0.92      0.92      1812\n",
            "           9       0.94      0.91      0.93      1804\n",
            "\n",
            "    accuracy                           0.93     18000\n",
            "   macro avg       0.93      0.93      0.93     18000\n",
            "weighted avg       0.93      0.93      0.93     18000\n",
            "\n"
          ],
          "name": "stdout"
        }
      ]
    },
    {
      "cell_type": "code",
      "metadata": {
        "colab": {
          "base_uri": "https://localhost:8080/"
        },
        "id": "TxpcPJeLeasm",
        "outputId": "6ed19eaf-43c6-46a5-e84c-973047ab5bb7"
      },
      "source": [
        "\n",
        "accuracy_score(y_test1, test_pred2)"
      ],
      "execution_count": 44,
      "outputs": [
        {
          "output_type": "execute_result",
          "data": {
            "text/plain": [
              "0.9306666666666666"
            ]
          },
          "metadata": {
            "tags": []
          },
          "execution_count": 44
        }
      ]
    },
    {
      "cell_type": "markdown",
      "metadata": {
        "id": "DjErl4GA2u9s"
      },
      "source": [
        "#### **Comments**\n",
        "\n",
        "accuracy of first model was 0.87 which is good.\n",
        "The 2nd model shows improvement, and it has a better performance. The accuracy of second model increased to 0.93.\n"
      ]
    },
    {
      "cell_type": "code",
      "metadata": {
        "id": "e5ZGAuNBqznd"
      },
      "source": [
        ""
      ],
      "execution_count": 18,
      "outputs": []
    }
  ]
}