{
  "nbformat": 4,
  "nbformat_minor": 0,
  "metadata": {
    "colab": {
      "name": "Project NN_ SVHN Project - Learners Notebook.ipynb",
      "provenance": [],
      "collapsed_sections": [],
      "include_colab_link": true
    },
    "kernelspec": {
      "name": "python3",
      "display_name": "Python 3"
    },
    "accelerator": "GPU"
  },
  "cells": [
    {
      "cell_type": "markdown",
      "metadata": {
        "id": "view-in-github",
        "colab_type": "text"
      },
      "source": [
        "<a href=\"https://colab.research.google.com/github/maryamxasghari/Deep-Learning/blob/main/Project_NN__SVHN_Project_Learners_Notebook.ipynb\" target=\"_parent\"><img src=\"https://colab.research.google.com/assets/colab-badge.svg\" alt=\"Open In Colab\"/></a>"
      ]
    },
    {
      "cell_type": "markdown",
      "metadata": {
        "id": "Q91KqmCRu64D"
      },
      "source": [
        "# Project- Artificial Neural Networks: Street View Housing Number Digit Recognition\n",
        "\n",
        "**Marks: 30**\n",
        "\n",
        "\n",
        "\n",
        "Dear Learner,\n",
        "\n",
        "Welcome to project on Classification using Artificial Neural Networks. We will work with the Street View Housing Numbers image dataset for this project work.\n",
        "\n",
        "Do read the problem statement and the guidelines around the same.\n",
        "\n",
        "----\n",
        "### Context: \n",
        "-------\n",
        "\n",
        "The ability to process visual information using machine learning algorithms can be very useful as demonstrated in various applications. The Street View House Numbers (SVHN) dataset is one of the most popular ones. It has been used in neural networks created by Google to read house numbers and match them to their geolocations. This is a great benchmark dataset to play with, learn and train models that accurately identify street numbers, and incorporate into all sorts of projects.\n",
        "\n",
        "---------\n",
        "### Objective:\n",
        "------------\n",
        "The objective of the exercise is to perform an image classification exercise on the given dataset to come up with a model that can help identify the digit images which have issues like picture brightness, blurriness. \n",
        "\n",
        "--------\n",
        "### More about the dataset\n",
        "------------\n",
        "- The dataset is provided as a .h5 file. The basic preprocessing steps have been done.\n",
        "\n",
        "---------------------------\n",
        "### Guidelines\n",
        "-----------------------------------------\n",
        "- You need to download the dataset from the given link and add it to your drive. Use colab for this exercise. \n",
        "- You will need to mount the drive and give proper path to read the dataset.\n",
        "- The exercise consists of semi written code blocks. You need to fill the blocks as per the instructions to achieve the required results.\n",
        "- To be able to complete the assessment in the expected time, do not change the variable names. The codes might throw errors when the names are changed. \n",
        "- The marks of each requirement is mentioned in the question.\n",
        "- You can raise your issues on the discussion forum on the Olympus.\n",
        "- Uncomment the code snippets and work on them\n",
        "--------------------------------------------\n",
        "Wishing you all the best!\n",
        "\n",
        "\n",
        "\n"
      ]
    },
    {
      "cell_type": "markdown",
      "metadata": {
        "id": "8z2Z7-OAs8QG"
      },
      "source": [
        "### Mount the drive\n",
        "Let us start by mounting the drive."
      ]
    },
    {
      "cell_type": "code",
      "metadata": {
        "id": "REFUdThmpz_d",
        "colab": {
          "base_uri": "https://localhost:8080/"
        },
        "outputId": "65808d8f-f26a-481e-b1ed-25ef47183ab1"
      },
      "source": [
        "from google.colab import drive\n",
        "drive.mount('/content/drive')"
      ],
      "execution_count": 1,
      "outputs": [
        {
          "output_type": "stream",
          "text": [
            "Mounted at /content/drive\n"
          ],
          "name": "stdout"
        }
      ]
    },
    {
      "cell_type": "markdown",
      "metadata": {
        "id": "ucnevGLoyKf_"
      },
      "source": [
        "Let us check for the version of installed tensorflow."
      ]
    },
    {
      "cell_type": "code",
      "metadata": {
        "id": "W5as47YxyJVk",
        "colab": {
          "base_uri": "https://localhost:8080/"
        },
        "outputId": "7cb060d0-ef80-4cb5-b7a9-96d24914b8ff"
      },
      "source": [
        "import tensorflow as tf\n",
        "print(tf.__version__)"
      ],
      "execution_count": 2,
      "outputs": [
        {
          "output_type": "stream",
          "text": [
            "2.3.0\n"
          ],
          "name": "stdout"
        }
      ]
    },
    {
      "cell_type": "markdown",
      "metadata": {
        "id": "8lsux2ZwyTTR"
      },
      "source": [
        "### Load the dataset\n",
        "- Let us now, load the dataset that is available as a .h5 file.\n",
        "- Split the data into train and the test dataset"
      ]
    },
    {
      "cell_type": "code",
      "metadata": {
        "id": "BApX9qgNsqV0",
        "scrolled": true
      },
      "source": [
        "import h5py\n",
        "import numpy as np\n",
        "\n",
        "# Open the file as readonly\n",
        "# Make changes in path as required\n",
        "h5f = h5py.File('/content/drive/My Drive/SVHN_single_grey1.h5', 'r')\n",
        "\n",
        "# Load the training and the test set\n",
        "X_train = h5f['X_train'][:]\n",
        "y_train1 = h5f['y_train'][:]\n",
        "X_test = h5f['X_test'][:]\n",
        "y_test1 = h5f['y_test'][:]\n",
        "\n",
        "\n",
        "# Close this file\n",
        "h5f.close()"
      ],
      "execution_count": 3,
      "outputs": []
    },
    {
      "cell_type": "markdown",
      "metadata": {
        "id": "nX4VEpfIyeaW"
      },
      "source": [
        "Let us import the required libraries now."
      ]
    },
    {
      "cell_type": "code",
      "metadata": {
        "id": "aTeAO8HpsqV8"
      },
      "source": [
        "## Importing the required libraries\n",
        "import numpy as np\n",
        "from tensorflow.keras.datasets import mnist\n",
        "from tensorflow.keras.models import Sequential\n",
        "from tensorflow.keras.layers import Dense\n",
        "from tensorflow.keras.utils import to_categorical\n",
        "\n",
        "# fix random seed for reproducibility\n",
        "seed = 7\n",
        "np.random.seed(seed)"
      ],
      "execution_count": 4,
      "outputs": []
    },
    {
      "cell_type": "markdown",
      "metadata": {
        "id": "kxODV6HKykuc"
      },
      "source": [
        "### Visualising images (3 marks)\n",
        "- Use X_train to visualise the first 10 images. (2 marks)\n",
        "- Use Y_train to print the first 10 labels (1 mark)"
      ]
    },
    {
      "cell_type": "code",
      "metadata": {
        "id": "Bvsc8ytHsqWD",
        "colab": {
          "base_uri": "https://localhost:8080/",
          "height": 95
        },
        "outputId": "5de4d80c-f7ea-45e2-e0d4-36b5a227a626"
      },
      "source": [
        "# visualizing the first 10 images in the dataset and their labels\n",
        "\n",
        "\n",
        "%matplotlib inline\n",
        "import matplotlib.pyplot as plt\n",
        "plt.figure(figsize=(10, 8))\n",
        "for i in range(10):\n",
        "     plt.subplot(1, 10, i+1)\n",
        "     plt.imshow(X_train[i], cmap=\"gray\")\n",
        "     plt.axis('off')\n",
        "plt.show()\n",
        "print('label for each of the above image: %s' % (y_train1[0:10]))"
      ],
      "execution_count": 5,
      "outputs": [
        {
          "output_type": "display_data",
          "data": {
            "image/png": "[encoded data removed]",
            "text/plain": [
              "<Figure size 720x576 with 10 Axes>"
            ]
          },
          "metadata": {
            "tags": [],
            "needs_background": "light"
          }
        },
        {
          "output_type": "stream",
          "text": [
            "label for each of the above image: [2 6 7 4 4 0 3 0 7 3]\n"
          ],
          "name": "stdout"
        }
      ]
    },
    {
      "cell_type": "markdown",
      "metadata": {
        "id": "kzoyeXHOy80N"
      },
      "source": [
        "### Data preparation (9 marks)\n",
        "\n",
        "- Print the first image in the train image and figure out the shape of the images (1 mark)\n",
        "- Reshape the train and the test dataset to flatten them. Figure out the required shape (3 marks)\n",
        "- Normalise the train and the test dataset by dividing by 255. (2 mark)\n",
        "- Print the new shapes of the train and the test set. (1 mark)\n",
        "- One hot encode the target variables (2 marks)"
      ]
    },
    {
      "cell_type": "code",
      "metadata": {
        "id": "NqndzQXng9rL",
        "colab": {
          "base_uri": "https://localhost:8080/",
          "height": 334
        },
        "outputId": "c6ad85eb-92e5-498b-c86e-f3a4e39f1a2c"
      },
      "source": [
        "# Shape of the images and the first image\n",
        "\n",
        "print(\"Shape:\", X_train[0].shape)\n",
        "print()\n",
        "print(\"First image:\\n\", plt.imshow(X_train[0]))"
      ],
      "execution_count": 6,
      "outputs": [
        {
          "output_type": "stream",
          "text": [
            "Shape: (32, 32)\n",
            "\n",
            "First image:\n",
            " AxesImage(54,36;334.8x217.44)\n"
          ],
          "name": "stdout"
        },
        {
          "output_type": "display_data",
          "data": {
            "image/png": "[encoded data removed]",
            "text/plain": [
              "<Figure size 432x288 with 1 Axes>"
            ]
          },
          "metadata": {
            "tags": [],
            "needs_background": "light"
          }
        }
      ]
    },
    {
      "cell_type": "code",
      "metadata": {
        "id": "D9YPwf9ysqWU"
      },
      "source": [
        "# Reshaping the dataset to flatten them. Remember that we are trying to reshape the 2D image data into a 1D array\n",
        "\n",
        "X_train = X_train.reshape(X_train.shape[0], 32*32)\n",
        "X_test = X_test.reshape(X_test.shape[0], 32*32)"
      ],
      "execution_count": 7,
      "outputs": []
    },
    {
      "cell_type": "code",
      "metadata": {
        "id": "q_yUUTp_mUzB"
      },
      "source": [
        "# Normalize inputs from 0-255 to 0-1\n",
        "\n",
        "X_train = X_train/255\n",
        "X_test =  X_test/255"
      ],
      "execution_count": 8,
      "outputs": []
    },
    {
      "cell_type": "code",
      "metadata": {
        "colab": {
          "base_uri": "https://localhost:8080/"
        },
        "id": "t7FSqOpamWkH",
        "outputId": "b3fecb53-d5d2-49b8-937d-f3775081f417"
      },
      "source": [
        "# New shape \n",
        "\n",
        "print('Training set:', X_train.shape, y_train1.shape )\n",
        "print('Test set:', X_test.shape, y_train1.shape )"
      ],
      "execution_count": 9,
      "outputs": [
        {
          "output_type": "stream",
          "text": [
            "Training set: (42000, 1024) (42000,)\n",
            "Test set: (18000, 1024) (42000,)\n"
          ],
          "name": "stdout"
        }
      ]
    },
    {
      "cell_type": "code",
      "metadata": {
        "id": "o1sIDeuLJOIn"
      },
      "source": [
        "import keras"
      ],
      "execution_count": 10,
      "outputs": []
    },
    {
      "cell_type": "code",
      "metadata": {
        "id": "zL0lYER4sqWw"
      },
      "source": [
        "# one hot encode output\n",
        "\n",
        "y_train = keras.utils.to_categorical(y_train1)\n",
        "y_test = keras.utils.to_categorical(y_test1)\n"
      ],
      "execution_count": 11,
      "outputs": []
    },
    {
      "cell_type": "markdown",
      "metadata": {
        "id": "UJDUoaEj1d6e"
      },
      "source": [
        "### Model Building (13 marks)\n",
        "- Write a function that returns a sequential model with the following architecture\n",
        " - First hidden layer with 256 nodes and relu activation\n",
        " - Second hidden layer with 64 nodes and relu activation \n",
        " - Third hidden layer with 64 nodes and relu activation\n",
        " - 4th hidden layer with 32 nodes and relu activation\n",
        " - Output layer with softmax activation and no of nodes equal to the number of classes\n",
        "- Compile the model with the categorical_crossentropy loss, adam optmizers (lr = 0.001) and accuracy metric\n",
        "- do not fit the model here, just return the compiled model\n",
        "- Call the model and fit on the train data with a validation split of 0.2, batch size = 128, verbose = 1 and 30 epochs. Store the model building history to use it later for visualisation.\n",
        "- print the summary of the model \n"
      ]
    },
    {
      "cell_type": "code",
      "metadata": {
        "id": "Cmi81Gr5sqW-"
      },
      "source": [
        "# define model\n",
        "\n",
        "from tensorflow.keras import losses\n",
        "from tensorflow.keras import optimizers\n",
        "\n",
        "\n",
        "def nn_model_1():\n",
        "    # create model\n",
        "    model = Sequential()  \n",
        "    #add layers as per instructions above\n",
        "    model.add(Dense(256,activation='relu'))\n",
        "    model.add(Dense(64,activation='relu'))\n",
        "    model.add(Dense(64,activation='relu'))\n",
        "    model.add(Dense(32,activation='relu'))\n",
        "    model.add(Dense(10, activation='softmax'))\n",
        "    # Compile model\n",
        "    adam = keras.optimizers.Adam(lr=1e-3)\n",
        "    model.compile(loss=\"categorical_crossentropy\", optimizer=\"adam\", metrics=['accuracy'])\n",
        "    return model"
      ],
      "execution_count": 13,
      "outputs": []
    },
    {
      "cell_type": "code",
      "metadata": {
        "id": "bGCUI_xsImnH",
        "colab": {
          "base_uri": "https://localhost:8080/"
        },
        "outputId": "c745e40c-286a-4899-8d5a-608b74e2a1b6"
      },
      "source": [
        "# Build the model\n",
        "\n",
        "# Call function here\n",
        "model_1 = nn_model_1()\n",
        "\n",
        "# Fit the model and store the history\n",
        "history_model_1 = model_1.fit(X_train, y_train,\n",
        "            epochs=30,validation_split=0.2,batch_size = 128,\n",
        "            validation_data=(X_test, y_test),\n",
        "            shuffle=True,\n",
        "            verbose=1)"
      ],
      "execution_count": 14,
      "outputs": [
        {
          "output_type": "stream",
          "text": [
            "Epoch 1/30\n",
            "263/263 [==============================] - 1s 4ms/step - loss: 2.2665 - accuracy: 0.1265 - val_loss: 2.2137 - val_accuracy: 0.1501\n",
            "Epoch 2/30\n",
            "263/263 [==============================] - 1s 4ms/step - loss: 2.0020 - accuracy: 0.2514 - val_loss: 1.7659 - val_accuracy: 0.3674\n",
            "Epoch 3/30\n",
            "263/263 [==============================] - 1s 4ms/step - loss: 1.6516 - accuracy: 0.4064 - val_loss: 1.5693 - val_accuracy: 0.4433\n",
            "Epoch 4/30\n",
            "263/263 [==============================] - 1s 4ms/step - loss: 1.4916 - accuracy: 0.4830 - val_loss: 1.3967 - val_accuracy: 0.5243\n",
            "Epoch 5/30\n",
            "263/263 [==============================] - 1s 4ms/step - loss: 1.3567 - accuracy: 0.5467 - val_loss: 1.3884 - val_accuracy: 0.5313\n",
            "Epoch 6/30\n",
            "263/263 [==============================] - 1s 4ms/step - loss: 1.2229 - accuracy: 0.6033 - val_loss: 1.1978 - val_accuracy: 0.6196\n",
            "Epoch 7/30\n",
            "263/263 [==============================] - 1s 4ms/step - loss: 1.1350 - accuracy: 0.6410 - val_loss: 1.1112 - val_accuracy: 0.6523\n",
            "Epoch 8/30\n",
            "263/263 [==============================] - 1s 4ms/step - loss: 1.0665 - accuracy: 0.6646 - val_loss: 1.0286 - val_accuracy: 0.6802\n",
            "Epoch 9/30\n",
            "263/263 [==============================] - 1s 4ms/step - loss: 1.0152 - accuracy: 0.6838 - val_loss: 1.0147 - val_accuracy: 0.6813\n",
            "Epoch 10/30\n",
            "263/263 [==============================] - 1s 4ms/step - loss: 0.9736 - accuracy: 0.6963 - val_loss: 0.9576 - val_accuracy: 0.6999\n",
            "Epoch 11/30\n",
            "263/263 [==============================] - 1s 4ms/step - loss: 0.9411 - accuracy: 0.7072 - val_loss: 0.9416 - val_accuracy: 0.7115\n",
            "Epoch 12/30\n",
            "263/263 [==============================] - 1s 4ms/step - loss: 0.9124 - accuracy: 0.7154 - val_loss: 0.8889 - val_accuracy: 0.7255\n",
            "Epoch 13/30\n",
            "263/263 [==============================] - 1s 4ms/step - loss: 0.8695 - accuracy: 0.7303 - val_loss: 0.8890 - val_accuracy: 0.7271\n",
            "Epoch 14/30\n",
            "263/263 [==============================] - 1s 4ms/step - loss: 0.8549 - accuracy: 0.7320 - val_loss: 0.8846 - val_accuracy: 0.7254\n",
            "Epoch 15/30\n",
            "263/263 [==============================] - 1s 4ms/step - loss: 0.8396 - accuracy: 0.7399 - val_loss: 0.8910 - val_accuracy: 0.7215\n",
            "Epoch 16/30\n",
            "263/263 [==============================] - 1s 4ms/step - loss: 0.8252 - accuracy: 0.7410 - val_loss: 0.8904 - val_accuracy: 0.7244\n",
            "Epoch 17/30\n",
            "263/263 [==============================] - 1s 4ms/step - loss: 0.8024 - accuracy: 0.7483 - val_loss: 0.8195 - val_accuracy: 0.7482\n",
            "Epoch 18/30\n",
            "263/263 [==============================] - 1s 4ms/step - loss: 0.7904 - accuracy: 0.7512 - val_loss: 0.8556 - val_accuracy: 0.7345\n",
            "Epoch 19/30\n",
            "263/263 [==============================] - 1s 4ms/step - loss: 0.7864 - accuracy: 0.7552 - val_loss: 0.8424 - val_accuracy: 0.7406\n",
            "Epoch 20/30\n",
            "263/263 [==============================] - 1s 4ms/step - loss: 0.7613 - accuracy: 0.7607 - val_loss: 0.8125 - val_accuracy: 0.7481\n",
            "Epoch 21/30\n",
            "263/263 [==============================] - 1s 4ms/step - loss: 0.7521 - accuracy: 0.7628 - val_loss: 0.8215 - val_accuracy: 0.7489\n",
            "Epoch 22/30\n",
            "263/263 [==============================] - 1s 4ms/step - loss: 0.7439 - accuracy: 0.7678 - val_loss: 0.8218 - val_accuracy: 0.7421\n",
            "Epoch 23/30\n",
            "263/263 [==============================] - 1s 4ms/step - loss: 0.7193 - accuracy: 0.7742 - val_loss: 0.8016 - val_accuracy: 0.7504\n",
            "Epoch 24/30\n",
            "263/263 [==============================] - 1s 4ms/step - loss: 0.7142 - accuracy: 0.7753 - val_loss: 0.7706 - val_accuracy: 0.7648\n",
            "Epoch 25/30\n",
            "263/263 [==============================] - 1s 4ms/step - loss: 0.7098 - accuracy: 0.7762 - val_loss: 0.7969 - val_accuracy: 0.7477\n",
            "Epoch 26/30\n",
            "263/263 [==============================] - 1s 4ms/step - loss: 0.6949 - accuracy: 0.7811 - val_loss: 0.7640 - val_accuracy: 0.7623\n",
            "Epoch 27/30\n",
            "263/263 [==============================] - 1s 4ms/step - loss: 0.6808 - accuracy: 0.7866 - val_loss: 0.7476 - val_accuracy: 0.7698\n",
            "Epoch 28/30\n",
            "263/263 [==============================] - 1s 4ms/step - loss: 0.6697 - accuracy: 0.7890 - val_loss: 0.7840 - val_accuracy: 0.7555\n",
            "Epoch 29/30\n",
            "263/263 [==============================] - 1s 4ms/step - loss: 0.6773 - accuracy: 0.7882 - val_loss: 0.7731 - val_accuracy: 0.7601\n",
            "Epoch 30/30\n",
            "263/263 [==============================] - 1s 4ms/step - loss: 0.6651 - accuracy: 0.7893 - val_loss: 0.7645 - val_accuracy: 0.7648\n"
          ],
          "name": "stdout"
        }
      ]
    },
    {
      "cell_type": "code",
      "metadata": {
        "id": "ckJsLdmdQadZ",
        "colab": {
          "base_uri": "https://localhost:8080/"
        },
        "outputId": "429d0c46-7e15-4496-8a68-778dd196ac07"
      },
      "source": [
        "#model summary here\n",
        "model_1.summary()"
      ],
      "execution_count": 15,
      "outputs": [
        {
          "output_type": "stream",
          "text": [
            "Model: \"sequential\"\n",
            "_________________________________________________________________\n",
            "Layer (type)                 Output Shape              Param #   \n",
            "=================================================================\n",
            "dense (Dense)                (None, 256)               262400    \n",
            "_________________________________________________________________\n",
            "dense_1 (Dense)              (None, 64)                16448     \n",
            "_________________________________________________________________\n",
            "dense_2 (Dense)              (None, 64)                4160      \n",
            "_________________________________________________________________\n",
            "dense_3 (Dense)              (None, 32)                2080      \n",
            "_________________________________________________________________\n",
            "dense_4 (Dense)              (None, 10)                330       \n",
            "=================================================================\n",
            "Total params: 285,418\n",
            "Trainable params: 285,418\n",
            "Non-trainable params: 0\n",
            "_________________________________________________________________\n"
          ],
          "name": "stdout"
        }
      ]
    },
    {
      "cell_type": "markdown",
      "metadata": {
        "id": "tKOckG-KPyLg"
      },
      "source": [
        "### Plotting the validation and training accuracies (2 marks)"
      ]
    },
    {
      "cell_type": "code",
      "metadata": {
        "id": "lt77zgGMP4yw",
        "colab": {
          "base_uri": "https://localhost:8080/",
          "height": 497
        },
        "outputId": "ce48c482-a3f8-4963-9527-ad240c65ceb5"
      },
      "source": [
        "# plotting the accuracies\n",
        "\n",
        "dict_hist = history_model_1.history\n",
        "list_ep = [i for i in range(1,31)]\n",
        "\n",
        "plt.figure(figsize = (8,8))\n",
        "plt.plot(list_ep,dict_hist['accuracy'], label = 'accuracy')\n",
        "plt.plot(list_ep,dict_hist['val_accuracy'], label = 'val_accuracy')\n",
        "plt.ylabel('Accuracy')\n",
        "plt.xlabel('Epochs')\n",
        "plt.legend()\n",
        "plt.show()"
      ],
      "execution_count": 17,
      "outputs": [
        {
          "output_type": "display_data",
          "data": {
            "image/png": "[encoded data removed]",
            "text/plain": [
              "<Figure size 576x576 with 1 Axes>"
            ]
          },
          "metadata": {
            "tags": [],
            "needs_background": "light"
          }
        }
      ]
    },
    {
      "cell_type": "markdown",
      "metadata": {
        "id": "pGBbQpLONX7k"
      },
      "source": [
        "** italicized textComments**\n",
        "The model did good, there is some sign of oveffitting. the accuracy improved by increasing the number of Epochs but even the highest accuracy 0.17 is really low. "
      ]
    },
    {
      "cell_type": "markdown",
      "metadata": {
        "id": "8kuXx9Bvu00f"
      },
      "source": [
        "### Test set prediction and final comments (3 marks)\n",
        "- predict on the test set and comment on the resultls obtained. (3 marks)\n"
      ]
    },
    {
      "cell_type": "code",
      "metadata": {
        "id": "xRddeJ-3EHT1",
        "colab": {
          "base_uri": "https://localhost:8080/"
        },
        "outputId": "177a868a-581b-4992-f066-fe82b66c18bd"
      },
      "source": [
        "# predict on the test dataset\n",
        "test_pred = np.argmax(model_1.predict(X_test), axis  = 1)\n",
        "\n",
        "#Print the classificatio report\n",
        "from sklearn.metrics import classification_report\n",
        "print(classification_report(y_test1, test_pred))\n",
        "\n"
      ],
      "execution_count": 18,
      "outputs": [
        {
          "output_type": "stream",
          "text": [
            "              precision    recall  f1-score   support\n",
            "\n",
            "           0       0.82      0.78      0.80      1814\n",
            "           1       0.78      0.80      0.79      1828\n",
            "           2       0.80      0.79      0.79      1803\n",
            "           3       0.74      0.69      0.72      1719\n",
            "           4       0.79      0.83      0.81      1812\n",
            "           5       0.69      0.73      0.71      1768\n",
            "           6       0.69      0.80      0.74      1832\n",
            "           7       0.86      0.79      0.82      1808\n",
            "           8       0.70      0.71      0.71      1812\n",
            "           9       0.80      0.72      0.75      1804\n",
            "\n",
            "    accuracy                           0.76     18000\n",
            "   macro avg       0.77      0.76      0.76     18000\n",
            "weighted avg       0.77      0.76      0.76     18000\n",
            "\n"
          ],
          "name": "stdout"
        }
      ]
    },
    {
      "cell_type": "code",
      "metadata": {
        "colab": {
          "base_uri": "https://localhost:8080/"
        },
        "id": "lWzw3WBL1oel",
        "outputId": "09c6eb67-367f-446c-afd4-7315e9da41d1"
      },
      "source": [
        "from sklearn.metrics import accuracy_score\n",
        "\n",
        "accuracy_score(y_test1, test_pred)"
      ],
      "execution_count": 19,
      "outputs": [
        {
          "output_type": "execute_result",
          "data": {
            "text/plain": [
              "0.764"
            ]
          },
          "metadata": {
            "tags": []
          },
          "execution_count": 19
        }
      ]
    },
    {
      "cell_type": "markdown",
      "metadata": {
        "id": "DjErl4GA2u9s"
      },
      "source": [
        "\n",
        "\n",
        "```\n",
        "# This is formatted as code\n",
        "```\n",
        "\n",
        "#### Comments:\n",
        "We got an accuracy score of 0.764 with the table above describing the class wise recall and precision.\n",
        "We have to train different models with some changes to get a better result\n",
        "\n",
        ".\n"
      ]
    },
    {
      "cell_type": "code",
      "metadata": {
        "id": "ETAFZO9oFkdA"
      },
      "source": [
        ""
      ],
      "execution_count": null,
      "outputs": []
    }
  ]
}