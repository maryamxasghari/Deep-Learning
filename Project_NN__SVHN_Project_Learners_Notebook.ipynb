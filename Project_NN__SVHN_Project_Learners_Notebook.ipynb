{
  "nbformat": 4,
  "nbformat_minor": 0,
  "metadata": {
    "colab": {
      "name": "Project NN_ SVHN Project - Learners Notebook.ipynb",
      "provenance": [],
      "collapsed_sections": []
    },
    "kernelspec": {
      "name": "python3",
      "display_name": "Python 3"
    },
    "accelerator": "GPU"
  },
  "cells": [
    {
      "cell_type": "markdown",
      "metadata": {
        "id": "Q91KqmCRu64D"
      },
      "source": [
        "# Project- Artificial Neural Networks: Street View Housing Number Digit Recognition\n",
        "\n",
        "**Marks: 30**\n",
        "\n",
        "\n",
        "\n",
        "Dear Learner,\n",
        "\n",
        "Welcome to project on Classification using Artificial Neural Networks. We will work with the Street View Housing Numbers image dataset for this project work.\n",
        "\n",
        "Do read the problem statement and the guidelines around the same.\n",
        "\n",
        "----\n",
        "### Context: \n",
        "-------\n",
        "\n",
        "The ability to process visual information using machine learning algorithms can be very useful as demonstrated in various applications. The Street View House Numbers (SVHN) dataset is one of the most popular ones. It has been used in neural networks created by Google to read house numbers and match them to their geolocations. This is a great benchmark dataset to play with, learn and train models that accurately identify street numbers, and incorporate into all sorts of projects.\n",
        "\n",
        "---------\n",
        "### Objective:\n",
        "------------\n",
        "The objective of the exercise is to perform an image classification exercise on the given dataset to come up with a model that can help identify the digit images which have issues like picture brightness, blurriness. \n",
        "\n",
        "--------\n",
        "### More about the dataset\n",
        "------------\n",
        "- The dataset is provided as a .h5 file. The basic preprocessing steps have been done.\n",
        "\n",
        "---------------------------\n",
        "### Guidelines\n",
        "-----------------------------------------\n",
        "- You need to download the dataset from the given link and add it to your drive. Use colab for this exercise. \n",
        "- You will need to mount the drive and give proper path to read the dataset.\n",
        "- The exercise consists of semi written code blocks. You need to fill the blocks as per the instructions to achieve the required results.\n",
        "- To be able to complete the assessment in the expected time, do not change the variable names. The codes might throw errors when the names are changed. \n",
        "- The marks of each requirement is mentioned in the question.\n",
        "- You can raise your issues on the discussion forum on the Olympus.\n",
        "- Uncomment the code snippets and work on them\n",
        "--------------------------------------------\n",
        "Wishing you all the best!\n",
        "\n",
        "\n",
        "\n"
      ]
    },
    {
      "cell_type": "markdown",
      "metadata": {
        "id": "8z2Z7-OAs8QG"
      },
      "source": [
        "### Mount the drive\n",
        "Let us start by mounting the drive."
      ]
    },
    {
      "cell_type": "code",
      "metadata": {
        "id": "REFUdThmpz_d",
        "colab": {
          "base_uri": "https://localhost:8080/"
        },
        "outputId": "3658bc7b-a67a-45da-abc5-e98f223c5224"
      },
      "source": [
        "from google.colab import drive\n",
        "drive.mount('/content/drive')"
      ],
      "execution_count": 3,
      "outputs": [
        {
          "output_type": "stream",
          "text": [
            "Mounted at /content/drive\n"
          ],
          "name": "stdout"
        }
      ]
    },
    {
      "cell_type": "markdown",
      "metadata": {
        "id": "ucnevGLoyKf_"
      },
      "source": [
        "Let us check for the version of installed tensorflow."
      ]
    },
    {
      "cell_type": "code",
      "metadata": {
        "id": "W5as47YxyJVk",
        "colab": {
          "base_uri": "https://localhost:8080/"
        },
        "outputId": "b21fb05a-ef0b-4b87-c314-26729158f427"
      },
      "source": [
        "import tensorflow as tf\n",
        "print(tf.__version__)"
      ],
      "execution_count": 4,
      "outputs": [
        {
          "output_type": "stream",
          "text": [
            "2.3.0\n"
          ],
          "name": "stdout"
        }
      ]
    },
    {
      "cell_type": "markdown",
      "metadata": {
        "id": "8lsux2ZwyTTR"
      },
      "source": [
        "### Load the dataset\n",
        "- Let us now, load the dataset that is available as a .h5 file.\n",
        "- Split the data into train and the test dataset"
      ]
    },
    {
      "cell_type": "code",
      "metadata": {
        "id": "BApX9qgNsqV0",
        "scrolled": true
      },
      "source": [
        "import h5py\n",
        "import numpy as np\n",
        "\n",
        "# Open the file as readonly\n",
        "# Make changes in path as required\n",
        "h5f = h5py.File('/content/drive/My Drive/SVHN_single_grey1.h5', 'r')\n",
        "\n",
        "# Load the training and the test set\n",
        "X_train = h5f['X_train'][:]\n",
        "y_train1 = h5f['y_train'][:]\n",
        "X_test = h5f['X_test'][:]\n",
        "y_test1 = h5f['y_test'][:]\n",
        "\n",
        "\n",
        "# Close this file\n",
        "h5f.close()"
      ],
      "execution_count": 5,
      "outputs": []
    },
    {
      "cell_type": "markdown",
      "metadata": {
        "id": "nX4VEpfIyeaW"
      },
      "source": [
        "Let us import the required libraries now."
      ]
    },
    {
      "cell_type": "code",
      "metadata": {
        "id": "aTeAO8HpsqV8"
      },
      "source": [
        "## Importing the required libraries\n",
        "import numpy as np\n",
        "from tensorflow.keras.datasets import mnist\n",
        "from tensorflow.keras.models import Sequential\n",
        "from tensorflow.keras.layers import Dense\n",
        "from tensorflow.keras.utils import to_categorical\n",
        "\n",
        "# fix random seed for reproducibility\n",
        "seed = 7\n",
        "np.random.seed(seed)"
      ],
      "execution_count": 6,
      "outputs": []
    },
    {
      "cell_type": "markdown",
      "metadata": {
        "id": "kxODV6HKykuc"
      },
      "source": [
        "### Visualising images (3 marks)\n",
        "- Use X_train to visualise the first 10 images. (2 marks)\n",
        "- Use Y_train to print the first 10 labels (1 mark)"
      ]
    },
    {
      "cell_type": "code",
      "metadata": {
        "id": "Bvsc8ytHsqWD",
        "colab": {
          "base_uri": "https://localhost:8080/",
          "height": 95
        },
        "outputId": "6d520528-af32-4d6a-e47f-1e55598bed48"
      },
      "source": [
        "# visualizing the first 10 images in the dataset and their labels\n",
        "\n",
        "\n",
        "%matplotlib inline\n",
        "import matplotlib.pyplot as plt\n",
        "plt.figure(figsize=(10, 8))\n",
        "for i in range(10):\n",
        "     plt.subplot(1, 10, i+1)\n",
        "     plt.imshow(X_train[i], cmap=\"gray\")\n",
        "     plt.axis('off')\n",
        "plt.show()\n",
        "print('label for each of the above image: %s' % (y_train1[0:10]))"
      ],
      "execution_count": 7,
      "outputs": [
        {
          "output_type": "display_data",
          "data": {
            "image/png": "[encoded data removed]",
            "text/plain": [
              "<Figure size 720x576 with 10 Axes>"
            ]
          },
          "metadata": {
            "tags": [],
            "needs_background": "light"
          }
        },
        {
          "output_type": "stream",
          "text": [
            "label for each of the above image: [2 6 7 4 4 0 3 0 7 3]\n"
          ],
          "name": "stdout"
        }
      ]
    },
    {
      "cell_type": "markdown",
      "metadata": {
        "id": "kzoyeXHOy80N"
      },
      "source": [
        "### Data preparation (9 marks)\n",
        "\n",
        "- Print the first image in the train image and figure out the shape of the images (1 mark)\n",
        "- Reshape the train and the test dataset to flatten them. Figure out the required shape (3 marks)\n",
        "- Normalise the train and the test dataset by dividing by 255. (2 mark)\n",
        "- Print the new shapes of the train and the test set. (1 mark)\n",
        "- One hot encode the target variables (2 marks)"
      ]
    },
    {
      "cell_type": "code",
      "metadata": {
        "id": "NqndzQXng9rL",
        "colab": {
          "base_uri": "https://localhost:8080/",
          "height": 334
        },
        "outputId": "8c96aafa-52f1-41e2-9737-0be8f432de58"
      },
      "source": [
        "# Shape of the images and the first image\n",
        "\n",
        "print(\"Shape:\", X_train[0].shape)\n",
        "print()\n",
        "print(\"First image:\\n\", plt.imshow(X_train[0]))"
      ],
      "execution_count": 8,
      "outputs": [
        {
          "output_type": "stream",
          "text": [
            "Shape: (32, 32)\n",
            "\n",
            "First image:\n",
            " AxesImage(54,36;334.8x217.44)\n"
          ],
          "name": "stdout"
        },
        {
          "output_type": "display_data",
          "data": {
            "image/png": "[encoded data removed]",
            "text/plain": [
              "<Figure size 432x288 with 1 Axes>"
            ]
          },
          "metadata": {
            "tags": [],
            "needs_background": "light"
          }
        }
      ]
    },
    {
      "cell_type": "code",
      "metadata": {
        "id": "D9YPwf9ysqWU"
      },
      "source": [
        "# Reshaping the dataset to flatten them. Remember that we are trying to reshape the 2D image data into a 1D array\n",
        "\n",
        "X_train = X_train.reshape(X_train.shape[0], 32*32)\n",
        "X_test = X_test.reshape(X_test.shape[0], 32*32)"
      ],
      "execution_count": 9,
      "outputs": []
    },
    {
      "cell_type": "code",
      "metadata": {
        "id": "q_yUUTp_mUzB"
      },
      "source": [
        "# Normalize inputs from 0-255 to 0-1\n",
        "\n",
        "X_train = X_train/255\n",
        "X_test =  X_test/255"
      ],
      "execution_count": 10,
      "outputs": []
    },
    {
      "cell_type": "code",
      "metadata": {
        "colab": {
          "base_uri": "https://localhost:8080/"
        },
        "id": "t7FSqOpamWkH",
        "outputId": "078674e3-b7e6-46ea-d769-078d663f5d88"
      },
      "source": [
        "# New shape \n",
        "\n",
        "print('Training set:', X_train.shape, y_train1.shape )\n",
        "print('Test set:', X_test.shape, y_train1.shape )"
      ],
      "execution_count": 11,
      "outputs": [
        {
          "output_type": "stream",
          "text": [
            "Training set: (42000, 1024) (42000,)\n",
            "Test set: (18000, 1024) (42000,)\n"
          ],
          "name": "stdout"
        }
      ]
    },
    {
      "cell_type": "code",
      "metadata": {
        "id": "o1sIDeuLJOIn"
      },
      "source": [
        "import keras"
      ],
      "execution_count": 12,
      "outputs": []
    },
    {
      "cell_type": "code",
      "metadata": {
        "id": "zL0lYER4sqWw"
      },
      "source": [
        "# one hot encode output\n",
        "\n",
        "y_train = keras.utils.to_categorical(y_train1)\n",
        "y_test = keras.utils.to_categorical(y_test1)\n"
      ],
      "execution_count": 13,
      "outputs": []
    },
    {
      "cell_type": "markdown",
      "metadata": {
        "id": "UJDUoaEj1d6e"
      },
      "source": [
        "### Model Building (13 marks)\n",
        "- Write a function that returns a sequential model with the following architecture\n",
        " - First hidden layer with 256 nodes and relu activation\n",
        " - Second hidden layer with 64 nodes and relu activation \n",
        " - Third hidden layer with 64 nodes and relu activation\n",
        " - 4th hidden layer with 32 nodes and relu activation\n",
        " - Output layer with softmax activation and no of nodes equal to the number of classes\n",
        "- Compile the model with the categorical_crossentropy loss, adam optmizers (lr = 0.001) and accuracy metric\n",
        "- do not fit the model here, just return the compiled model\n",
        "- Call the model and fit on the train data with a validation split of 0.2, batch size = 128, verbose = 1 and 30 epochs. Store the model building history to use it later for visualisation.\n",
        "- print the summary of the model \n"
      ]
    },
    {
      "cell_type": "code",
      "metadata": {
        "id": "Cmi81Gr5sqW-"
      },
      "source": [
        "# define model\n",
        "\n",
        "from tensorflow.keras import losses\n",
        "from tensorflow.keras import optimizers\n",
        "\n",
        "\n",
        "def nn_model_1():\n",
        "    # create model\n",
        "    model = Sequential()  \n",
        "    #add layers as per instructions above\n",
        "    model.add(Dense(256,activation='relu'))\n",
        "    model.add(Dense(64,activation='relu'))\n",
        "    model.add(Dense(64,activation='relu'))\n",
        "    model.add(Dense(32,activation='relu'))\n",
        "    model.add(Dense(10, activation='softmax'))\n",
        "    # Compile model\n",
        "    adam = keras.optimizers.Adam(lr=1e-3)\n",
        "    model.compile(loss=\"categorical_crossentropy\", optimizer=\"adam\", metrics=['accuracy'])\n",
        "    return model"
      ],
      "execution_count": 14,
      "outputs": []
    },
    {
      "cell_type": "code",
      "metadata": {
        "id": "bGCUI_xsImnH",
        "colab": {
          "base_uri": "https://localhost:8080/"
        },
        "outputId": "936e18ff-31cd-4306-f1bc-ce877208b954"
      },
      "source": [
        "# Build the model\n",
        "\n",
        "# Call function here\n",
        "model_1 = nn_model_1()\n",
        "\n",
        "# Fit the model and store the history\n",
        "history_model_1 = model_1.fit(X_train, y_train,\n",
        "            epochs=30,validation_split=0.2,\n",
        "            validation_data=(X_test, y_test),\n",
        "            shuffle=True,\n",
        "            verbose=1)"
      ],
      "execution_count": 20,
      "outputs": [
        {
          "output_type": "stream",
          "text": [
            "Epoch 1/30\n",
            "1050/1050 [==============================] - 4s 3ms/step - loss: 2.3058 - accuracy: 0.1007 - val_loss: 2.3044 - val_accuracy: 0.0974\n",
            "Epoch 2/30\n",
            "1050/1050 [==============================] - 4s 4ms/step - loss: 2.3030 - accuracy: 0.0990 - val_loss: 2.3025 - val_accuracy: 0.1017\n",
            "Epoch 3/30\n",
            "1050/1050 [==============================] - 4s 4ms/step - loss: 2.2664 - accuracy: 0.1198 - val_loss: 2.2398 - val_accuracy: 0.1299\n",
            "Epoch 4/30\n",
            "1050/1050 [==============================] - 4s 4ms/step - loss: 2.2387 - accuracy: 0.1310 - val_loss: 2.2334 - val_accuracy: 0.1323\n",
            "Epoch 5/30\n",
            "1050/1050 [==============================] - 3s 3ms/step - loss: 2.2350 - accuracy: 0.1324 - val_loss: 2.2540 - val_accuracy: 0.1290\n",
            "Epoch 6/30\n",
            "1050/1050 [==============================] - 3s 3ms/step - loss: 2.2324 - accuracy: 0.1322 - val_loss: 2.2292 - val_accuracy: 0.1333\n",
            "Epoch 7/30\n",
            "1050/1050 [==============================] - 3s 3ms/step - loss: 2.2303 - accuracy: 0.1332 - val_loss: 2.2244 - val_accuracy: 0.1340\n",
            "Epoch 8/30\n",
            "1050/1050 [==============================] - 3s 3ms/step - loss: 2.2300 - accuracy: 0.1339 - val_loss: 2.2253 - val_accuracy: 0.1330\n",
            "Epoch 9/30\n",
            "1050/1050 [==============================] - 3s 3ms/step - loss: 2.2299 - accuracy: 0.1314 - val_loss: 2.2730 - val_accuracy: 0.1143\n",
            "Epoch 10/30\n",
            "1050/1050 [==============================] - 3s 3ms/step - loss: 2.2278 - accuracy: 0.1362 - val_loss: 2.2294 - val_accuracy: 0.1363\n",
            "Epoch 11/30\n",
            "1050/1050 [==============================] - 3s 3ms/step - loss: 2.2272 - accuracy: 0.1355 - val_loss: 2.2231 - val_accuracy: 0.1344\n",
            "Epoch 12/30\n",
            "1050/1050 [==============================] - 3s 3ms/step - loss: 2.2274 - accuracy: 0.1372 - val_loss: 2.2243 - val_accuracy: 0.1456\n",
            "Epoch 13/30\n",
            "1050/1050 [==============================] - 3s 3ms/step - loss: 2.2258 - accuracy: 0.1343 - val_loss: 2.2297 - val_accuracy: 0.1399\n",
            "Epoch 14/30\n",
            "1050/1050 [==============================] - 3s 3ms/step - loss: 2.2262 - accuracy: 0.1337 - val_loss: 2.2223 - val_accuracy: 0.1393\n",
            "Epoch 15/30\n",
            "1050/1050 [==============================] - 3s 3ms/step - loss: 2.2243 - accuracy: 0.1386 - val_loss: 2.2235 - val_accuracy: 0.1385\n",
            "Epoch 16/30\n",
            "1050/1050 [==============================] - 3s 3ms/step - loss: 2.2255 - accuracy: 0.1344 - val_loss: 2.2203 - val_accuracy: 0.1363\n",
            "Epoch 17/30\n",
            "1050/1050 [==============================] - 3s 3ms/step - loss: 2.2245 - accuracy: 0.1366 - val_loss: 2.2199 - val_accuracy: 0.1344\n",
            "Epoch 18/30\n",
            "1050/1050 [==============================] - 3s 3ms/step - loss: 2.2243 - accuracy: 0.1380 - val_loss: 2.2202 - val_accuracy: 0.1477\n",
            "Epoch 19/30\n",
            "1050/1050 [==============================] - 3s 3ms/step - loss: 2.2249 - accuracy: 0.1338 - val_loss: 2.2224 - val_accuracy: 0.1392\n",
            "Epoch 20/30\n",
            "1050/1050 [==============================] - 3s 3ms/step - loss: 2.2240 - accuracy: 0.1358 - val_loss: 2.2294 - val_accuracy: 0.1451\n",
            "Epoch 21/30\n",
            "1050/1050 [==============================] - 3s 3ms/step - loss: 2.2239 - accuracy: 0.1394 - val_loss: 2.2249 - val_accuracy: 0.1470\n",
            "Epoch 22/30\n",
            "1050/1050 [==============================] - 3s 3ms/step - loss: 2.2239 - accuracy: 0.1353 - val_loss: 2.2232 - val_accuracy: 0.1425\n",
            "Epoch 23/30\n",
            "1050/1050 [==============================] - 3s 3ms/step - loss: 2.2241 - accuracy: 0.1396 - val_loss: 2.2201 - val_accuracy: 0.1351\n",
            "Epoch 24/30\n",
            "1050/1050 [==============================] - 3s 3ms/step - loss: 2.2226 - accuracy: 0.1379 - val_loss: 2.2237 - val_accuracy: 0.1475\n",
            "Epoch 25/30\n",
            "1050/1050 [==============================] - 3s 3ms/step - loss: 2.1980 - accuracy: 0.1478 - val_loss: 2.1567 - val_accuracy: 0.1675\n",
            "Epoch 26/30\n",
            "1050/1050 [==============================] - 3s 3ms/step - loss: 2.1664 - accuracy: 0.1652 - val_loss: 2.1522 - val_accuracy: 0.1696\n",
            "Epoch 27/30\n",
            "1050/1050 [==============================] - 3s 3ms/step - loss: 2.1542 - accuracy: 0.1653 - val_loss: 2.1418 - val_accuracy: 0.1732\n",
            "Epoch 28/30\n",
            "1050/1050 [==============================] - 3s 3ms/step - loss: 2.1542 - accuracy: 0.1702 - val_loss: 2.1828 - val_accuracy: 0.1611\n",
            "Epoch 29/30\n",
            "1050/1050 [==============================] - 3s 3ms/step - loss: 2.1480 - accuracy: 0.1701 - val_loss: 2.1463 - val_accuracy: 0.1730\n",
            "Epoch 30/30\n",
            "1050/1050 [==============================] - 3s 3ms/step - loss: 2.1482 - accuracy: 0.1642 - val_loss: 2.1498 - val_accuracy: 0.1610\n"
          ],
          "name": "stdout"
        }
      ]
    },
    {
      "cell_type": "code",
      "metadata": {
        "id": "ckJsLdmdQadZ",
        "colab": {
          "base_uri": "https://localhost:8080/"
        },
        "outputId": "8990e0cc-898d-4853-8a23-ba71e996aecc"
      },
      "source": [
        "#model summary here\n",
        "model_1.summary()"
      ],
      "execution_count": 21,
      "outputs": [
        {
          "output_type": "stream",
          "text": [
            "Model: \"sequential_1\"\n",
            "_________________________________________________________________\n",
            "Layer (type)                 Output Shape              Param #   \n",
            "=================================================================\n",
            "dense_5 (Dense)              (None, 256)               262400    \n",
            "_________________________________________________________________\n",
            "dense_6 (Dense)              (None, 64)                16448     \n",
            "_________________________________________________________________\n",
            "dense_7 (Dense)              (None, 64)                4160      \n",
            "_________________________________________________________________\n",
            "dense_8 (Dense)              (None, 32)                2080      \n",
            "_________________________________________________________________\n",
            "dense_9 (Dense)              (None, 10)                330       \n",
            "=================================================================\n",
            "Total params: 285,418\n",
            "Trainable params: 285,418\n",
            "Non-trainable params: 0\n",
            "_________________________________________________________________\n"
          ],
          "name": "stdout"
        }
      ]
    },
    {
      "cell_type": "markdown",
      "metadata": {
        "id": "tKOckG-KPyLg"
      },
      "source": [
        "### Plotting the validation and training accuracies (2 marks)"
      ]
    },
    {
      "cell_type": "code",
      "metadata": {
        "id": "87kG7QVutbIr"
      },
      "source": [
        "dict_hist"
      ],
      "execution_count": null,
      "outputs": []
    },
    {
      "cell_type": "code",
      "metadata": {
        "id": "lt77zgGMP4yw",
        "colab": {
          "base_uri": "https://localhost:8080/",
          "height": 497
        },
        "outputId": "b0931918-dfce-4f31-c54e-981c20373f6c"
      },
      "source": [
        "# plotting the accuracies\n",
        "\n",
        "dict_hist = history_model_1.history\n",
        "list_ep = [i for i in range(1,31)]\n",
        "\n",
        "plt.figure(figsize = (8,8))\n",
        "plt.plot(list_ep,dict_hist['accuracy'], label = 'accuracy')\n",
        "plt.plot(list_ep,dict_hist['val_accuracy'], label = 'val_accuracy')\n",
        "plt.ylabel('Accuracy')\n",
        "plt.xlabel('Epochs')\n",
        "plt.legend()\n",
        "plt.show()"
      ],
      "execution_count": 24,
      "outputs": [
        {
          "output_type": "display_data",
          "data": {
            "image/png": "[encoded data removed]",
            "text/plain": [
              "<Figure size 576x576 with 1 Axes>"
            ]
          },
          "metadata": {
            "tags": [],
            "needs_background": "light"
          }
        }
      ]
    },
    {
      "cell_type": "markdown",
      "metadata": {
        "id": "pGBbQpLONX7k"
      },
      "source": [
        "** italicized textComments**\n",
        "The model did good, there is some sign of oveffitting. the accuracy improved by increasing the number of Epochs but even the highest accuracy 0.17 is really low. "
      ]
    },
    {
      "cell_type": "markdown",
      "metadata": {
        "id": "8kuXx9Bvu00f"
      },
      "source": [
        "### Test set prediction and final comments (3 marks)\n",
        "- predict on the test set and comment on the resultls obtained. (3 marks)\n"
      ]
    },
    {
      "cell_type": "code",
      "metadata": {
        "id": "xRddeJ-3EHT1",
        "colab": {
          "base_uri": "https://localhost:8080/"
        },
        "outputId": "263118ae-469c-4ee7-db32-8ce34953a480"
      },
      "source": [
        "# predict on the test dataset\n",
        "test_pred = np.argmax(model_1.predict(X_test), axis  = 1)\n",
        "\n",
        "#Print the classificatio report\n",
        "from sklearn.metrics import classification_report\n",
        "print(classification_report(y_test1, test_pred))\n",
        "\n"
      ],
      "execution_count": 28,
      "outputs": [
        {
          "output_type": "stream",
          "text": [
            "              precision    recall  f1-score   support\n",
            "\n",
            "           0       0.00      0.00      0.00      1814\n",
            "           1       0.00      0.00      0.00      1828\n",
            "           2       0.18      0.25      0.21      1803\n",
            "           3       0.14      0.39      0.21      1719\n",
            "           4       0.20      0.01      0.02      1812\n",
            "           5       0.13      0.10      0.11      1768\n",
            "           6       0.21      0.60      0.31      1832\n",
            "           7       0.15      0.24      0.18      1808\n",
            "           8       0.00      0.00      0.00      1812\n",
            "           9       0.15      0.09      0.11      1804\n",
            "\n",
            "    accuracy                           0.17     18000\n",
            "   macro avg       0.11      0.17      0.12     18000\n",
            "weighted avg       0.11      0.17      0.11     18000\n",
            "\n"
          ],
          "name": "stdout"
        },
        {
          "output_type": "stream",
          "text": [
            "/usr/local/lib/python3.6/dist-packages/sklearn/metrics/_classification.py:1272: UndefinedMetricWarning: Precision and F-score are ill-defined and being set to 0.0 in labels with no predicted samples. Use `zero_division` parameter to control this behavior.\n",
            "  _warn_prf(average, modifier, msg_start, len(result))\n"
          ],
          "name": "stderr"
        }
      ]
    },
    {
      "cell_type": "code",
      "metadata": {
        "colab": {
          "base_uri": "https://localhost:8080/"
        },
        "id": "lWzw3WBL1oel",
        "outputId": "b53ee0d8-3daa-4242-f484-d4078656b74d"
      },
      "source": [
        "from sklearn.metrics import accuracy_score\n",
        "\n",
        "accuracy_score(y_test1, test_pred)"
      ],
      "execution_count": 32,
      "outputs": [
        {
          "output_type": "execute_result",
          "data": {
            "text/plain": [
              "0.16722222222222222"
            ]
          },
          "metadata": {
            "tags": []
          },
          "execution_count": 32
        }
      ]
    },
    {
      "cell_type": "markdown",
      "metadata": {
        "id": "DjErl4GA2u9s"
      },
      "source": [
        "#### Comments:\n",
        "Really bad performance! We got an accuracy score of 0.17 with the table above describing the class wise recall and precision.\n",
        "We have to train different models with some changes to get a better result\n",
        ".\n"
      ]
    },
    {
      "cell_type": "code",
      "metadata": {
        "id": "ETAFZO9oFkdA"
      },
      "source": [
        ""
      ],
      "execution_count": null,
      "outputs": []
    }
  ]
}